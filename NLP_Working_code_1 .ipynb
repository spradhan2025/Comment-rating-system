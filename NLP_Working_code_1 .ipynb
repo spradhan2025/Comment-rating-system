{
 "cells": [
  {
   "cell_type": "markdown",
   "metadata": {},
   "source": [
    "# importing library"
   ]
  },
  {
   "cell_type": "code",
   "execution_count": 1,
   "metadata": {},
   "outputs": [],
   "source": [
    "import pandas as pd\n",
    "import numpy as np\n",
    "import matplotlib.pyplot as plt\n",
    "from flair.models import TextClassifier\n",
    "from flair.data import Sentence\n",
    "from nltk.tokenize import sent_tokenize \n",
    "from statistics import mean "
   ]
  },
  {
   "cell_type": "code",
   "execution_count": null,
   "metadata": {},
   "outputs": [],
   "source": []
  },
  {
   "cell_type": "markdown",
   "metadata": {},
   "source": [
    "# loading dataset"
   ]
  },
  {
   "cell_type": "code",
   "execution_count": null,
   "metadata": {},
   "outputs": [],
   "source": []
  },
  {
   "cell_type": "code",
   "execution_count": 2,
   "metadata": {},
   "outputs": [],
   "source": [
    "product_id=45\n",
    "comment=[\n",
    "    \"Value for money \",\n",
    "    \"Very poor quality \",\n",
    "    \"shoe is very comfortable.\",\n",
    "    \"The quality of shoes are bad, the sole is not pasted properly and the material is of poor qualtiy. They are not comfortable and not long lasting. Very disappointed with the quality \",\n",
    "    \"This was not for jogging,Running,only walking . they are not comfortable \",\n",
    "    \"Package and products poor, but at this price it is value for money, thanks Amazon \"\n",
    "    \n",
    "]\n",
    "data=(product_id,comment)\n"
   ]
  },
  {
   "cell_type": "markdown",
   "metadata": {},
   "source": [
    "# Preproccesing"
   ]
  },
  {
   "cell_type": "code",
   "execution_count": 3,
   "metadata": {},
   "outputs": [],
   "source": [
    "comments=map(str.lower, comment)\n",
    "comments=list(comments)"
   ]
  },
  {
   "cell_type": "markdown",
   "metadata": {},
   "source": [
    "# converting comment to sentence"
   ]
  },
  {
   "cell_type": "code",
   "execution_count": 4,
   "metadata": {},
   "outputs": [
    {
     "data": {
      "text/plain": [
       "['value for money',\n",
       " 'very poor quality',\n",
       " 'shoe is very comfortable.',\n",
       " 'the quality of shoes are bad, the sole is not pasted properly and the material is of poor qualtiy.',\n",
       " 'they are not comfortable and not long lasting.',\n",
       " 'very disappointed with the quality',\n",
       " 'this was not for jogging,running,only walking .',\n",
       " 'they are not comfortable',\n",
       " 'package and products poor, but at this price it is value for money, thanks amazon']"
      ]
     },
     "execution_count": 4,
     "metadata": {},
     "output_type": "execute_result"
    }
   ],
   "source": [
    "#comment = \"The quality of shoes are bad, the sole is not pasted properly and the material is of poor qualtiy. They are not comfortable and not long lasting. Very disappointed with the quality \"\n",
    "comsentences=[]\n",
    "for i in comments:\n",
    "    for j in range(len(sent_tokenize(i))):\n",
    "        comsentences.append(sent_tokenize(i)[j] )\n",
    "comsentences"
   ]
  },
  {
   "cell_type": "markdown",
   "metadata": {},
   "source": [
    "# finding key words in sentence"
   ]
  },
  {
   "cell_type": "code",
   "execution_count": 5,
   "metadata": {},
   "outputs": [
    {
     "data": {
      "text/plain": [
       "'value for money'"
      ]
     },
     "execution_count": 5,
     "metadata": {},
     "output_type": "execute_result"
    }
   ],
   "source": [
    "comsentences[0]"
   ]
  },
  {
   "cell_type": "code",
   "execution_count": 6,
   "metadata": {},
   "outputs": [
    {
     "name": "stdout",
     "output_type": "stream",
     "text": [
      "['shoe is very comfortable.', 'they are not comfortable and not long lasting.', 'they are not comfortable']\n"
     ]
    }
   ],
   "source": [
    "parameter =[\"comfort\"]\n",
    "comfort=[]\n",
    "#sentence=comment[3]\n",
    "for sent in comsentences:\n",
    "    #sent=str(sent)\n",
    "    if parameter[0] in sent: \n",
    "        #print(sent)\n",
    "        comfort.append(sent)\n",
    "print(comfort)\n",
    "   \n"
   ]
  },
  {
   "cell_type": "code",
   "execution_count": 7,
   "metadata": {},
   "outputs": [],
   "source": [
    "# we have to consider similar kind of related word also"
   ]
  },
  {
   "cell_type": "markdown",
   "metadata": {},
   "source": [
    "# Selecting all sentence of specific type "
   ]
  },
  {
   "cell_type": "code",
   "execution_count": null,
   "metadata": {},
   "outputs": [],
   "source": []
  },
  {
   "cell_type": "markdown",
   "metadata": {},
   "source": [
    "# applying sentiment analysis to every sentence"
   ]
  },
  {
   "cell_type": "code",
   "execution_count": 8,
   "metadata": {},
   "outputs": [],
   "source": [
    "from flair.data import Sentence\n",
    "def rating(sen):\n",
    "    classifier = TextClassifier.load('en-sentiment')\n",
    "    sc = Sentence(sen)\n",
    "    classifier.predict(sc)# print sentence with predicted labels\n",
    "    #print('Sentence above is: ', sc.labels)\n",
    "    #Converting sentiment value to rating\n",
    "    x= float(str(sc.labels).split(\" \")[1][1:-2])\n",
    "    y=str(sc.labels).split(\" \")[0][1:]\n",
    "    #print(y)\n",
    "    if ((x> 0.6) and (x<1) and (y==\"NEGATIVE\")):\n",
    "        return 1\n",
    "    if ((x> 0) and (x<0.4) and (y==\"NEGATIVE\") ):\n",
    "        return 2\n",
    "    if ((x> 0.4 )and (x<0.6)):\n",
    "        return 3\n",
    "    if ((x> 0) and (x<0.4) and (y==\"POSITIVE\")):\n",
    "        return 4\n",
    "    if ((x> 0.6) and (x<1) and (y==\"POSITIVE\")):\n",
    "        return 5\n",
    "\n",
    "    \n",
    "\n",
    "#x=rating('shoe is  GOOD')\n",
    "#print(\"rating is\",x)"
   ]
  },
  {
   "cell_type": "markdown",
   "metadata": {},
   "source": []
  },
  {
   "cell_type": "code",
   "execution_count": 9,
   "metadata": {},
   "outputs": [],
   "source": [
    "#Converting sentiment value to rating\n",
    "def ratings():\n",
    "        df['pred'] = pd.cut(df['score'],bins=5,labels=[1, 2, 3, 4, 5])\n",
    "        return df"
   ]
  },
  {
   "cell_type": "markdown",
   "metadata": {},
   "source": []
  },
  {
   "cell_type": "markdown",
   "metadata": {},
   "source": [
    "# for all sentence in a cateogry"
   ]
  },
  {
   "cell_type": "code",
   "execution_count": 12,
   "metadata": {},
   "outputs": [
    {
     "data": {
      "text/plain": [
       "['shoe is very comfortable.',\n",
       " 'they are not comfortable and not long lasting.',\n",
       " 'they are not comfortable']"
      ]
     },
     "execution_count": 12,
     "metadata": {},
     "output_type": "execute_result"
    }
   ],
   "source": [
    "comfort"
   ]
  },
  {
   "cell_type": "code",
   "execution_count": 10,
   "metadata": {},
   "outputs": [
    {
     "name": "stdout",
     "output_type": "stream",
     "text": [
      "2021-02-04 15:04:04,629 loading file C:\\Users\\spradhan\\.flair\\models\\sentiment-en-mix-distillbert_3.1.pt\n",
      "2021-02-04 15:04:06,700 loading file C:\\Users\\spradhan\\.flair\\models\\sentiment-en-mix-distillbert_3.1.pt\n",
      "2021-02-04 15:04:08,432 loading file C:\\Users\\spradhan\\.flair\\models\\sentiment-en-mix-distillbert_3.1.pt\n"
     ]
    },
    {
     "data": {
      "text/plain": [
       "[5, 1, 1]"
      ]
     },
     "execution_count": 10,
     "metadata": {},
     "output_type": "execute_result"
    }
   ],
   "source": [
    "comfort_rating=[]\n",
    "for i in comfort:\n",
    "    comfort_rating.append(rating(i))\n",
    "\n",
    "comfort_rating"
   ]
  },
  {
   "cell_type": "markdown",
   "metadata": {},
   "source": [
    "# average rating"
   ]
  },
  {
   "cell_type": "code",
   "execution_count": 11,
   "metadata": {},
   "outputs": [
    {
     "data": {
      "text/plain": [
       "2.3333333333333335"
      ]
     },
     "execution_count": 11,
     "metadata": {},
     "output_type": "execute_result"
    }
   ],
   "source": [
    "avg_rating=mean(comfort_rating) \n",
    "avg_rating"
   ]
  },
  {
   "cell_type": "code",
   "execution_count": null,
   "metadata": {},
   "outputs": [],
   "source": []
  },
  {
   "cell_type": "code",
   "execution_count": null,
   "metadata": {},
   "outputs": [],
   "source": []
  }
 ],
 "metadata": {
  "kernelspec": {
   "display_name": "Python 3",
   "language": "python",
   "name": "python3"
  },
  "language_info": {
   "codemirror_mode": {
    "name": "ipython",
    "version": 3
   },
   "file_extension": ".py",
   "mimetype": "text/x-python",
   "name": "python",
   "nbconvert_exporter": "python",
   "pygments_lexer": "ipython3",
   "version": "3.8.3"
  }
 },
 "nbformat": 4,
 "nbformat_minor": 4
}
