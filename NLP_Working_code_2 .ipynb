{
 "cells": [
  {
   "cell_type": "markdown",
   "metadata": {},
   "source": [
    "# importing library"
   ]
  },
  {
   "cell_type": "code",
   "execution_count": 1,
   "metadata": {},
   "outputs": [],
   "source": [
    "import pandas as pd\n",
    "import numpy as np\n",
    "import matplotlib.pyplot as plt\n",
    "from flair.models import TextClassifier\n",
    "from flair.data import Sentence\n",
    "from nltk.tokenize import sent_tokenize \n",
    "from statistics import mean "
   ]
  },
  {
   "cell_type": "code",
   "execution_count": null,
   "metadata": {},
   "outputs": [],
   "source": []
  },
  {
   "cell_type": "markdown",
   "metadata": {},
   "source": [
    "# loading dataset"
   ]
  },
  {
   "cell_type": "code",
   "execution_count": null,
   "metadata": {},
   "outputs": [],
   "source": []
  },
  {
   "cell_type": "code",
   "execution_count": 2,
   "metadata": {},
   "outputs": [
    {
     "data": {
      "text/plain": [
       "['Value for money ',\n",
       " 'Very poor quality ',\n",
       " 'shoe is very comfortable.',\n",
       " 'The quality of shoes are bad, the sole is not pasted properly and the material is of poor qualtiy. They are not comfortable and not long lasting. Very disappointed with the quality ',\n",
       " 'This was not for jogging,Running,only walking . they are not comfortable ',\n",
       " 'Package and products poor, but at this price it is value for money, thanks Amazon ']"
      ]
     },
     "execution_count": 2,
     "metadata": {},
     "output_type": "execute_result"
    }
   ],
   "source": [
    "product_id=45\n",
    "comment=[\n",
    "    \"Value for money \",\n",
    "    \"Very poor quality \",\n",
    "    \"shoe is very comfortable.\",\n",
    "    \"The quality of shoes are bad, the sole is not pasted properly and the material is of poor qualtiy. They are not comfortable and not long lasting. Very disappointed with the quality \",\n",
    "    \"This was not for jogging,Running,only walking . they are not comfortable \",\n",
    "    \"Package and products poor, but at this price it is value for money, thanks Amazon \"\n",
    "    \n",
    "]\n",
    "data=(product_id,comment)\n",
    "comment"
   ]
  },
  {
   "cell_type": "code",
   "execution_count": 3,
   "metadata": {},
   "outputs": [
    {
     "data": {
      "text/html": [
       "<div>\n",
       "<style scoped>\n",
       "    .dataframe tbody tr th:only-of-type {\n",
       "        vertical-align: middle;\n",
       "    }\n",
       "\n",
       "    .dataframe tbody tr th {\n",
       "        vertical-align: top;\n",
       "    }\n",
       "\n",
       "    .dataframe thead th {\n",
       "        text-align: right;\n",
       "    }\n",
       "</style>\n",
       "<table border=\"1\" class=\"dataframe\">\n",
       "  <thead>\n",
       "    <tr style=\"text-align: right;\">\n",
       "      <th></th>\n",
       "      <th>comment</th>\n",
       "    </tr>\n",
       "  </thead>\n",
       "  <tbody>\n",
       "    <tr>\n",
       "      <th>0</th>\n",
       "      <td>Value for money</td>\n",
       "    </tr>\n",
       "    <tr>\n",
       "      <th>1</th>\n",
       "      <td>Very poor quality</td>\n",
       "    </tr>\n",
       "    <tr>\n",
       "      <th>2</th>\n",
       "      <td>shoe is very comfortable.</td>\n",
       "    </tr>\n",
       "    <tr>\n",
       "      <th>3</th>\n",
       "      <td>The quality of shoes are bad, the sole is not ...</td>\n",
       "    </tr>\n",
       "    <tr>\n",
       "      <th>4</th>\n",
       "      <td>This was not for jogging,Running,only walking ...</td>\n",
       "    </tr>\n",
       "    <tr>\n",
       "      <th>5</th>\n",
       "      <td>Package and products poor, but at this price i...</td>\n",
       "    </tr>\n",
       "  </tbody>\n",
       "</table>\n",
       "</div>"
      ],
      "text/plain": [
       "                                             comment\n",
       "0                                   Value for money \n",
       "1                                 Very poor quality \n",
       "2                          shoe is very comfortable.\n",
       "3  The quality of shoes are bad, the sole is not ...\n",
       "4  This was not for jogging,Running,only walking ...\n",
       "5  Package and products poor, but at this price i..."
      ]
     },
     "execution_count": 3,
     "metadata": {},
     "output_type": "execute_result"
    }
   ],
   "source": [
    "\n",
    "result = pd.DataFrame({\"comment\":pd.Series(comment)}) \n",
    "result"
   ]
  },
  {
   "cell_type": "markdown",
   "metadata": {},
   "source": [
    "# Preproccesing"
   ]
  },
  {
   "cell_type": "code",
   "execution_count": 4,
   "metadata": {},
   "outputs": [],
   "source": [
    "comments=map(str.lower, comment)\n",
    "comments=list(comments)"
   ]
  },
  {
   "cell_type": "code",
   "execution_count": 5,
   "metadata": {},
   "outputs": [
    {
     "data": {
      "text/plain": [
       "['value for money ',\n",
       " 'very poor quality ',\n",
       " 'shoe is very comfortable.',\n",
       " 'the quality of shoes are bad, the sole is not pasted properly and the material is of poor qualtiy. they are not comfortable and not long lasting. very disappointed with the quality ',\n",
       " 'this was not for jogging,running,only walking . they are not comfortable ',\n",
       " 'package and products poor, but at this price it is value for money, thanks amazon ']"
      ]
     },
     "execution_count": 5,
     "metadata": {},
     "output_type": "execute_result"
    }
   ],
   "source": [
    "comments=result[\"comment\"].str.lower()\n",
    "comments=list(comments)\n",
    "comments"
   ]
  },
  {
   "cell_type": "markdown",
   "metadata": {},
   "source": [
    "# converting comment to sentence"
   ]
  },
  {
   "cell_type": "code",
   "execution_count": 6,
   "metadata": {},
   "outputs": [
    {
     "data": {
      "text/plain": [
       "['value for money',\n",
       " 'very poor quality',\n",
       " 'shoe is very comfortable.',\n",
       " 'the quality of shoes are bad, the sole is not pasted properly and the material is of poor qualtiy.',\n",
       " 'they are not comfortable and not long lasting.',\n",
       " 'very disappointed with the quality',\n",
       " 'this was not for jogging,running,only walking .',\n",
       " 'they are not comfortable',\n",
       " 'package and products poor, but at this price it is value for money, thanks amazon']"
      ]
     },
     "execution_count": 6,
     "metadata": {},
     "output_type": "execute_result"
    }
   ],
   "source": [
    "#comment = \"The quality of shoes are bad, the sole is not pasted properly and the material is of poor qualtiy. They are not comfortable and not long lasting. Very disappointed with the quality \"\n",
    "comsentences=[]\n",
    "for i in comments:\n",
    "    for j in range(len(sent_tokenize(i))):\n",
    "        comsentences.append(sent_tokenize(i)[j] )\n",
    "comsentences"
   ]
  },
  {
   "cell_type": "code",
   "execution_count": 7,
   "metadata": {},
   "outputs": [
    {
     "data": {
      "text/html": [
       "<div>\n",
       "<style scoped>\n",
       "    .dataframe tbody tr th:only-of-type {\n",
       "        vertical-align: middle;\n",
       "    }\n",
       "\n",
       "    .dataframe tbody tr th {\n",
       "        vertical-align: top;\n",
       "    }\n",
       "\n",
       "    .dataframe thead th {\n",
       "        text-align: right;\n",
       "    }\n",
       "</style>\n",
       "<table border=\"1\" class=\"dataframe\">\n",
       "  <thead>\n",
       "    <tr style=\"text-align: right;\">\n",
       "      <th></th>\n",
       "      <th>sentence</th>\n",
       "    </tr>\n",
       "  </thead>\n",
       "  <tbody>\n",
       "    <tr>\n",
       "      <th>0</th>\n",
       "      <td>value for money</td>\n",
       "    </tr>\n",
       "    <tr>\n",
       "      <th>1</th>\n",
       "      <td>very poor quality</td>\n",
       "    </tr>\n",
       "    <tr>\n",
       "      <th>2</th>\n",
       "      <td>shoe is very comfortable.</td>\n",
       "    </tr>\n",
       "    <tr>\n",
       "      <th>3</th>\n",
       "      <td>the quality of shoes are bad, the sole is not ...</td>\n",
       "    </tr>\n",
       "    <tr>\n",
       "      <th>4</th>\n",
       "      <td>they are not comfortable and not long lasting.</td>\n",
       "    </tr>\n",
       "    <tr>\n",
       "      <th>5</th>\n",
       "      <td>very disappointed with the quality</td>\n",
       "    </tr>\n",
       "    <tr>\n",
       "      <th>6</th>\n",
       "      <td>this was not for jogging,running,only walking .</td>\n",
       "    </tr>\n",
       "    <tr>\n",
       "      <th>7</th>\n",
       "      <td>they are not comfortable</td>\n",
       "    </tr>\n",
       "    <tr>\n",
       "      <th>8</th>\n",
       "      <td>package and products poor, but at this price i...</td>\n",
       "    </tr>\n",
       "  </tbody>\n",
       "</table>\n",
       "</div>"
      ],
      "text/plain": [
       "                                            sentence\n",
       "0                                    value for money\n",
       "1                                  very poor quality\n",
       "2                          shoe is very comfortable.\n",
       "3  the quality of shoes are bad, the sole is not ...\n",
       "4     they are not comfortable and not long lasting.\n",
       "5                 very disappointed with the quality\n",
       "6    this was not for jogging,running,only walking .\n",
       "7                           they are not comfortable\n",
       "8  package and products poor, but at this price i..."
      ]
     },
     "execution_count": 7,
     "metadata": {},
     "output_type": "execute_result"
    }
   ],
   "source": [
    "senti=pd.DataFrame({\"sentence\":pd.Series(comsentences)}) \n",
    "senti"
   ]
  },
  {
   "cell_type": "markdown",
   "metadata": {},
   "source": [
    "# finding key words in sentence"
   ]
  },
  {
   "cell_type": "code",
   "execution_count": 8,
   "metadata": {},
   "outputs": [
    {
     "data": {
      "text/plain": [
       "'value for money'"
      ]
     },
     "execution_count": 8,
     "metadata": {},
     "output_type": "execute_result"
    }
   ],
   "source": [
    "comsentences[0]"
   ]
  },
  {
   "cell_type": "code",
   "execution_count": 18,
   "metadata": {},
   "outputs": [
    {
     "data": {
      "text/html": [
       "<div>\n",
       "<style scoped>\n",
       "    .dataframe tbody tr th:only-of-type {\n",
       "        vertical-align: middle;\n",
       "    }\n",
       "\n",
       "    .dataframe tbody tr th {\n",
       "        vertical-align: top;\n",
       "    }\n",
       "\n",
       "    .dataframe thead th {\n",
       "        text-align: right;\n",
       "    }\n",
       "</style>\n",
       "<table border=\"1\" class=\"dataframe\">\n",
       "  <thead>\n",
       "    <tr style=\"text-align: right;\">\n",
       "      <th></th>\n",
       "      <th>sentence</th>\n",
       "    </tr>\n",
       "  </thead>\n",
       "  <tbody>\n",
       "    <tr>\n",
       "      <th>2</th>\n",
       "      <td>shoe is very comfortable.</td>\n",
       "    </tr>\n",
       "    <tr>\n",
       "      <th>4</th>\n",
       "      <td>they are not comfortable and not long lasting.</td>\n",
       "    </tr>\n",
       "    <tr>\n",
       "      <th>7</th>\n",
       "      <td>they are not comfortable</td>\n",
       "    </tr>\n",
       "  </tbody>\n",
       "</table>\n",
       "</div>"
      ],
      "text/plain": [
       "                                         sentence\n",
       "2                       shoe is very comfortable.\n",
       "4  they are not comfortable and not long lasting.\n",
       "7                        they are not comfortable"
      ]
     },
     "execution_count": 18,
     "metadata": {},
     "output_type": "execute_result"
    }
   ],
   "source": [
    "parameter =[\"comfort\"]\n",
    "comfort=senti[senti['sentence'].str.contains(parameter[0])]\n",
    "comfort"
   ]
  },
  {
   "cell_type": "code",
   "execution_count": 19,
   "metadata": {},
   "outputs": [],
   "source": [
    "# we have to consider similar kind of related word also"
   ]
  },
  {
   "cell_type": "markdown",
   "metadata": {},
   "source": [
    "# Selecting all sentence of specific type "
   ]
  },
  {
   "cell_type": "code",
   "execution_count": null,
   "metadata": {},
   "outputs": [],
   "source": []
  },
  {
   "cell_type": "markdown",
   "metadata": {},
   "source": [
    "# applying sentiment analysis to every sentence"
   ]
  },
  {
   "cell_type": "code",
   "execution_count": 20,
   "metadata": {},
   "outputs": [],
   "source": [
    "from flair.data import Sentence\n",
    "def rating(sen):\n",
    "    classifier = TextClassifier.load('en-sentiment')\n",
    "    sc = Sentence(sen)\n",
    "    classifier.predict(sc)# print sentence with predicted labels\n",
    "    #print('Sentence above is: ', sc.labels)\n",
    "    #Converting sentiment value to rating\n",
    "    x= float(str(sc.labels).split(\" \")[1][1:-2])\n",
    "    y=str(sc.labels).split(\" \")[0][1:]\n",
    "    #print(y)\n",
    "    if ((x> 0.6) and (x<1) and (y==\"NEGATIVE\")):\n",
    "        return 1\n",
    "    if ((x> 0) and (x<0.4) and (y==\"NEGATIVE\") ):\n",
    "        return 2\n",
    "    if ((x> 0.4 )and (x<0.6)):\n",
    "        return 3\n",
    "    if ((x> 0) and (x<0.4) and (y==\"POSITIVE\")):\n",
    "        return 4\n",
    "    if ((x> 0.6) and (x<1) and (y==\"POSITIVE\")):\n",
    "        return 5\n",
    "\n",
    "    \n",
    "\n",
    "#x=rating('shoe is  GOOD')\n",
    "#print(\"rating is\",x)"
   ]
  },
  {
   "cell_type": "markdown",
   "metadata": {},
   "source": [
    "# for all sentence in a cateogry"
   ]
  },
  {
   "cell_type": "code",
   "execution_count": 22,
   "metadata": {},
   "outputs": [
    {
     "data": {
      "text/html": [
       "<div>\n",
       "<style scoped>\n",
       "    .dataframe tbody tr th:only-of-type {\n",
       "        vertical-align: middle;\n",
       "    }\n",
       "\n",
       "    .dataframe tbody tr th {\n",
       "        vertical-align: top;\n",
       "    }\n",
       "\n",
       "    .dataframe thead th {\n",
       "        text-align: right;\n",
       "    }\n",
       "</style>\n",
       "<table border=\"1\" class=\"dataframe\">\n",
       "  <thead>\n",
       "    <tr style=\"text-align: right;\">\n",
       "      <th></th>\n",
       "      <th>sentence</th>\n",
       "    </tr>\n",
       "  </thead>\n",
       "  <tbody>\n",
       "    <tr>\n",
       "      <th>2</th>\n",
       "      <td>shoe is very comfortable.</td>\n",
       "    </tr>\n",
       "    <tr>\n",
       "      <th>4</th>\n",
       "      <td>they are not comfortable and not long lasting.</td>\n",
       "    </tr>\n",
       "    <tr>\n",
       "      <th>7</th>\n",
       "      <td>they are not comfortable</td>\n",
       "    </tr>\n",
       "  </tbody>\n",
       "</table>\n",
       "</div>"
      ],
      "text/plain": [
       "                                         sentence\n",
       "2                       shoe is very comfortable.\n",
       "4  they are not comfortable and not long lasting.\n",
       "7                        they are not comfortable"
      ]
     },
     "execution_count": 22,
     "metadata": {},
     "output_type": "execute_result"
    }
   ],
   "source": [
    "comfort"
   ]
  },
  {
   "cell_type": "code",
   "execution_count": 30,
   "metadata": {},
   "outputs": [
    {
     "name": "stdout",
     "output_type": "stream",
     "text": [
      "2021-02-04 16:49:43,084 loading file C:\\Users\\spradhan\\.flair\\models\\sentiment-en-mix-distillbert_3.1.pt\n",
      "2021-02-04 16:49:45,237 loading file C:\\Users\\spradhan\\.flair\\models\\sentiment-en-mix-distillbert_3.1.pt\n",
      "2021-02-04 16:49:47,485 loading file C:\\Users\\spradhan\\.flair\\models\\sentiment-en-mix-distillbert_3.1.pt\n"
     ]
    },
    {
     "name": "stderr",
     "output_type": "stream",
     "text": [
      "<ipython-input-30-cfeb0f43a667>:1: SettingWithCopyWarning: \n",
      "A value is trying to be set on a copy of a slice from a DataFrame.\n",
      "Try using .loc[row_indexer,col_indexer] = value instead\n",
      "\n",
      "See the caveats in the documentation: https://pandas.pydata.org/pandas-docs/stable/user_guide/indexing.html#returning-a-view-versus-a-copy\n",
      "  comfort[\"rating\"]=comfort[\"sentence\"].apply(rating)\n"
     ]
    },
    {
     "data": {
      "text/html": [
       "<div>\n",
       "<style scoped>\n",
       "    .dataframe tbody tr th:only-of-type {\n",
       "        vertical-align: middle;\n",
       "    }\n",
       "\n",
       "    .dataframe tbody tr th {\n",
       "        vertical-align: top;\n",
       "    }\n",
       "\n",
       "    .dataframe thead th {\n",
       "        text-align: right;\n",
       "    }\n",
       "</style>\n",
       "<table border=\"1\" class=\"dataframe\">\n",
       "  <thead>\n",
       "    <tr style=\"text-align: right;\">\n",
       "      <th></th>\n",
       "      <th>sentence</th>\n",
       "      <th>rating</th>\n",
       "    </tr>\n",
       "  </thead>\n",
       "  <tbody>\n",
       "    <tr>\n",
       "      <th>2</th>\n",
       "      <td>shoe is very comfortable.</td>\n",
       "      <td>5</td>\n",
       "    </tr>\n",
       "    <tr>\n",
       "      <th>4</th>\n",
       "      <td>they are not comfortable and not long lasting.</td>\n",
       "      <td>1</td>\n",
       "    </tr>\n",
       "    <tr>\n",
       "      <th>7</th>\n",
       "      <td>they are not comfortable</td>\n",
       "      <td>1</td>\n",
       "    </tr>\n",
       "  </tbody>\n",
       "</table>\n",
       "</div>"
      ],
      "text/plain": [
       "                                         sentence  rating\n",
       "2                       shoe is very comfortable.       5\n",
       "4  they are not comfortable and not long lasting.       1\n",
       "7                        they are not comfortable       1"
      ]
     },
     "execution_count": 30,
     "metadata": {},
     "output_type": "execute_result"
    }
   ],
   "source": [
    "comfort[\"rating\"]=comfort[\"sentence\"].apply(rating)\n",
    "comfort"
   ]
  },
  {
   "cell_type": "markdown",
   "metadata": {},
   "source": [
    "# average rating"
   ]
  },
  {
   "cell_type": "code",
   "execution_count": 27,
   "metadata": {},
   "outputs": [
    {
     "data": {
      "text/plain": [
       "2.3333333333333335"
      ]
     },
     "execution_count": 27,
     "metadata": {},
     "output_type": "execute_result"
    }
   ],
   "source": [
    "comfort[\"rating\"].mean(axis = 0, skipna = True) "
   ]
  },
  {
   "cell_type": "code",
   "execution_count": null,
   "metadata": {},
   "outputs": [],
   "source": []
  },
  {
   "cell_type": "code",
   "execution_count": null,
   "metadata": {},
   "outputs": [],
   "source": []
  },
  {
   "cell_type": "code",
   "execution_count": null,
   "metadata": {},
   "outputs": [],
   "source": []
  }
 ],
 "metadata": {
  "kernelspec": {
   "display_name": "Python 3",
   "language": "python",
   "name": "python3"
  },
  "language_info": {
   "codemirror_mode": {
    "name": "ipython",
    "version": 3
   },
   "file_extension": ".py",
   "mimetype": "text/x-python",
   "name": "python",
   "nbconvert_exporter": "python",
   "pygments_lexer": "ipython3",
   "version": "3.8.3"
  }
 },
 "nbformat": 4,
 "nbformat_minor": 4
}
