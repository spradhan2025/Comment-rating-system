{
 "cells": [
  {
   "cell_type": "markdown",
   "metadata": {},
   "source": [
    "# importing library"
   ]
  },
  {
   "cell_type": "code",
   "execution_count": 102,
   "metadata": {},
   "outputs": [],
   "source": [
    "import pandas as pd\n",
    "import numpy as np\n",
    "import matplotlib.pyplot as plt\n",
    "from flair.models import TextClassifier\n",
    "from flair.data import Sentence\n",
    "from nltk.tokenize import sent_tokenize \n",
    "from statistics import mean \n",
    "\n",
    "import spacy\n",
    "from nltk.corpus import stopwords\n",
    "from wordcloud import WordCloud, STOPWORDS\n",
    "nlp = spacy.load('en', disable=['parser', 'ner'])\n",
    "from flair.data import Sentence\n",
    "\n",
    "from autocorrect import Speller\n",
    "import json\n",
    "\n",
    "import warnings\n",
    "warnings.filterwarnings(\"ignore\")"
   ]
  },
  {
   "cell_type": "code",
   "execution_count": 103,
   "metadata": {},
   "outputs": [],
   "source": [
    "attributeRating=[\n",
    "         {\n",
    "            \"name\":\"comfort\",\n",
    "            \"rating\":3.0\n",
    "         },\n",
    "         {\n",
    "            \"name\":\"quality\",\n",
    "            \"rating\":4.0\n",
    "         },\n",
    "         {\n",
    "            \"name\":\"running\",\n",
    "            \"rating\":5.0\n",
    "         }]\n",
    "\n",
    "comments=[\n",
    "    \"Value for money \",\n",
    "    \"Very poori quality \",\n",
    "    \"shoe is very comfortable.\",\n",
    "    \"The quality of shoes are bad, the sole is not pasted properly and the material is of poor qualtiy. They are not comfortable and not long lasting. Very disappointed with the quality \",\n",
    "    \"This was not for jogging,Running,only walking . they are not comfortable \",\n",
    "    \"Package and products poor, but at this price it is value for money, thanks Amazon \"\n",
    "    \n",
    "]"
   ]
  },
  {
   "cell_type": "code",
   "execution_count": 105,
   "metadata": {},
   "outputs": [],
   "source": [
    "def review(attributeRating,comments):\n",
    "    attributeRating=attributeRating\n",
    "    comments=comments\n",
    "    attribute=[]\n",
    "    def rating(sen):\n",
    "        classifier = TextClassifier.load('en-sentiment')\n",
    "        sc = Sentence(sen)\n",
    "        classifier.predict(sc)\n",
    "        x= float(str(sc.labels).split(\" \")[1][1:-2])\n",
    "        y=str(sc.labels).split(\" \")[0][1:]\n",
    "        #print(y)\n",
    "        if ((x> 0.6) and (x<=1) and (y==\"NEGATIVE\")):\n",
    "            return 1\n",
    "        if ((x>- 0) and (x<0.4) and (y==\"NEGATIVE\") ):\n",
    "            return 2\n",
    "        if ((x>= 0.4 )and (x<0.6)):\n",
    "            return 3\n",
    "        if ((x>= 0) and (x<=0.4) and (y==\"POSITIVE\")):\n",
    "            return 4\n",
    "        if ((x> 0.6) and (x<=1) and (y==\"POSITIVE\")):\n",
    "            return 5\n",
    "\n",
    "    \n",
    "\n",
    "    for i in range (len(attributeRating)):\n",
    "        attribute.append(attributeRating[i][\"name\"])\n",
    "    comments=map(str.lower, comment)\n",
    "    comments=list(comments)\n",
    "    result = pd.DataFrame({\"comment\":pd.Series(comments)}) \n",
    "    #comment = \"The quality of shoes are bad, the sole is not pasted properly and the material is of poor qualtiy. They are not comfortable and not long lasting. Very disappointed with the quality \"\n",
    "    comsentences=[]\n",
    "    for i in comments:\n",
    "        for j in range(len(sent_tokenize(i))):\n",
    "            comsentences.append(sent_tokenize(i)[j] )\n",
    "    senti=pd.DataFrame({\"sentence\":pd.Series(comsentences)}) \n",
    "    senti['sentence']=senti['sentence'].str.lower()\n",
    "    senti['sentence'] = senti['sentence'].str.replace('[^\\w\\s]','')\n",
    "    check = Speller(lang='en')\n",
    "    senti['sentence']=  senti['sentence'].apply(check)\n",
    "    \n",
    "    c=0\n",
    "    for i in attribute :\n",
    "        comfort=senti[senti['sentence'].str.contains((i))]\n",
    "        comfort[\"rating\"]=comfort[\"sentence\"].apply(rating)\n",
    "        attributeRating[c][\"rating\"]=comfort[\"rating\"].mean(axis = 0, skipna = True)\n",
    "        c=c+1\n",
    "        \n",
    "    return attributeRating\n",
    "    \n",
    "    \n",
    "\n",
    "    \n",
    "    "
   ]
  },
  {
   "cell_type": "code",
   "execution_count": 106,
   "metadata": {},
   "outputs": [
    {
     "name": "stdout",
     "output_type": "stream",
     "text": [
      "2021-02-04 20:46:07,509 loading file C:\\Users\\spradhan\\.flair\\models\\sentiment-en-mix-distillbert_3.1.pt\n",
      "2021-02-04 20:46:10,715 loading file C:\\Users\\spradhan\\.flair\\models\\sentiment-en-mix-distillbert_3.1.pt\n",
      "2021-02-04 20:46:13,720 loading file C:\\Users\\spradhan\\.flair\\models\\sentiment-en-mix-distillbert_3.1.pt\n",
      "2021-02-04 20:46:16,710 loading file C:\\Users\\spradhan\\.flair\\models\\sentiment-en-mix-distillbert_3.1.pt\n",
      "2021-02-04 20:46:19,527 loading file C:\\Users\\spradhan\\.flair\\models\\sentiment-en-mix-distillbert_3.1.pt\n",
      "2021-02-04 20:46:22,555 loading file C:\\Users\\spradhan\\.flair\\models\\sentiment-en-mix-distillbert_3.1.pt\n",
      "2021-02-04 20:46:25,496 loading file C:\\Users\\spradhan\\.flair\\models\\sentiment-en-mix-distillbert_3.1.pt\n",
      "[{'name': 'comfort', 'rating': 2.3333333333333335}, {'name': 'quality', 'rating': 1.0}, {'name': 'running', 'rating': 1.0}]\n"
     ]
    }
   ],
   "source": [
    "    \n",
    "rat=review(attributeRating,comments)\n",
    "print(rat)"
   ]
  },
  {
   "cell_type": "code",
   "execution_count": null,
   "metadata": {},
   "outputs": [],
   "source": []
  },
  {
   "cell_type": "code",
   "execution_count": null,
   "metadata": {},
   "outputs": [],
   "source": []
  },
  {
   "cell_type": "code",
   "execution_count": null,
   "metadata": {},
   "outputs": [],
   "source": []
  },
  {
   "cell_type": "code",
   "execution_count": null,
   "metadata": {},
   "outputs": [],
   "source": []
  }
 ],
 "metadata": {
  "kernelspec": {
   "display_name": "Python 3",
   "language": "python",
   "name": "python3"
  },
  "language_info": {
   "codemirror_mode": {
    "name": "ipython",
    "version": 3
   },
   "file_extension": ".py",
   "mimetype": "text/x-python",
   "name": "python",
   "nbconvert_exporter": "python",
   "pygments_lexer": "ipython3",
   "version": "3.8.3"
  }
 },
 "nbformat": 4,
 "nbformat_minor": 4
}
